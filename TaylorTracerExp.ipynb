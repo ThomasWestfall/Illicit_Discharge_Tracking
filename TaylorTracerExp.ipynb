{
 "cells": [
  {
   "cell_type": "markdown",
   "metadata": {
    "collapsed": false
   },
   "source": [
    "# Dispersion Coefficients from Tracer Experiments\n",
    "\n",
    "The objective of this notebook is to determine a stream's dispersion coefficient from tracer experiment data. Before this notebook is used, the conductivity data must be converted to the concentration of the tracer being injected. In this case, salt dilution gauging techniques were used to determine a regression line between conductivity and sodium chloride (salt) concentration (this was done with excel spreadsheets in the field). After concentration data is inputted into the .csv file, the '.csv' is imported into this notebook. The flow rate of the stream is also determined by calculating the area under this curve and then dividing by the tracer's mass. Then the dispersion coefficient, $K_x$, and stream velocity, $V_x$, are optimized in Taylor's Solution (Eq. 1) (Fischer, 1967; French, 1986, & Rutherford, 1994). <br/> <br/> $C(x,t)=\\frac{M}{A\\sqrt{4\\pi K_x t}} \\exp⁡ [\\frac{-(x-V_x t)^2}{(4K_x t)}] \\;\\;\\;\\;\\;\\;\\;\\;\\;\\;\\;\\;\\;\\;\\;\\;\\;\\;\\; (Eq. 1)$ <br/> <br/> where $K_x$ is the dispersion coefficient, $V_x$ is the average stream velocity, $A$ is the average cross-sectional area, $M$ is mass of the tracer, $x$ is the distance between source and monitoring station, and $t$ is time.\n"
   ]
  },
  {
   "cell_type": "markdown",
   "metadata": {
    "collapsed": false
   },
   "source": [
    "Populate Notebook with libraries"
   ]
  },
  {
   "cell_type": "code",
   "execution_count": 0,
   "metadata": {
    "collapsed": false
   },
   "outputs": [
   ],
   "source": [
    "%pylab inline\n",
    "%config InlineBackend.figure_format='retina' # hig-res plots for a Retina display\n",
    "from scipy.integrate import odeint\n",
    "from scipy.optimize import curve_fit\n",
    "import pandas as pd\n",
    "import statsmodels.formula.api as smf\n",
    "import os\n",
    "os.chdir('/home/user/Tracer Data') # import working directory for tracer data"
   ]
  },
  {
   "cell_type": "markdown",
   "metadata": {
    "collapsed": false
   },
   "source": [
    "#### Input Observed Data and Stream Characteristics"
   ]
  },
  {
   "cell_type": "code",
   "execution_count": 0,
   "metadata": {
    "collapsed": false
   },
   "outputs": [
   ],
   "source": [
    "# user inputs ------------------------------------\n",
    "\n",
    "# data file containing the arrays t_sec and C_mgL\n",
    "datafile = 'tracer27upM.csv'\n",
    "data = pd.read_csv(datafile)\n",
    "\n",
    "t=array(data.t_sec)+1 # 1 second is added to the data to avoid issues with t = 0 in the calcs\n",
    "C=array(data.C_mgL)\n",
    "\n",
    "#calculate time of max concentration\n",
    "tpeak = t[argmax(C)] # time of the peak\n",
    "\n",
    "# known properties of stream at the time of data collection\n",
    "Qknown = 0.6476  # flow rate from tracer experiment (ft^3/s)\n",
    "W1 = 3           # width of stream (ft)\n",
    "S = 0.0068       # average slope (ft/ft)\n",
    "M_mg = 1000000   # total mass of salt added (mg)\n",
    "xknown1 = 289    # distance to source if known (ft)\n",
    "\n",
    "M = M_mg/1000 # to grams\n",
    "\n",
    "# convert to SI\n",
    "ft_m = (30.48/100)\n",
    "Q = Qknown*ft_m**3\n",
    "xknown = xknown1*ft_m\n",
    "x = xknown\n",
    "W = W1*ft_m\n",
    "\n",
    "data.head() # preview of the first 5 rows of data loaded"
   ]
  },
  {
   "cell_type": "markdown",
   "metadata": {
    "collapsed": false
   },
   "source": [
    "#### Determine average stream velocity, area, and water height"
   ]
  },
  {
   "cell_type": "code",
   "execution_count": 0,
   "metadata": {
    "collapsed": false
   },
   "outputs": [
   ],
   "source": [
    "U = x/tpeak # average stream velocity (m/s)\n",
    "A = Q/U     # average cross-sectional area (m^2/s)\n",
    "h = A/W     # average water height (m)"
   ]
  },
  {
   "cell_type": "markdown",
   "metadata": {
    "collapsed": false
   },
   "source": [
    "### Optimize Dispersion Coef. & Velocity with Taylor Solution."
   ]
  },
  {
   "cell_type": "code",
   "execution_count": 0,
   "metadata": {
    "collapsed": false
   },
   "outputs": [
   ],
   "source": [
    "def taylor2nd(t,K,U): #Taylor Solution as a function of K and U\n",
    "    Cp = (M/(A*sqrt(4*pi*K*t)))*exp(-(x-U*t)**2/(4*K*t))\n",
    "    return Cp # returns C in mg/L\n",
    "\n",
    "# perform the fit w/ initial guesses at minimum (0.01)\n",
    "# least-squares optimiziation\n",
    "popt, cov = curve_fit(taylor2nd, t, C, p0=[.1,0.1])\n",
    "\n",
    "# plot the observed data and the optimized fit using given M, A, and X\n",
    "fig, ax = plt.subplots()\n",
    "ax.plot(t/60,C,'o', label='Data')\n",
    "ax.plot(t/60,taylor2nd(t,popt[0],popt[1]),'--k', label='Taylor Solution')\n",
    "ax.set_xlabel('Time [min]', fontsize=18)\n",
    "ax.set_ylabel('Concentration, $C$  [mg/L]', fontsize=18)\n",
    "ax.tick_params(axis='x', labelsize=16)\n",
    "ax.tick_params(axis='y', labelsize=16)\n",
    "legend(loc=1, prop={'size': 18})\n",
    "\n",
    "fig.set_size_inches(10, 8, forward = True)\n",
    "fig.savefig('tracer27upfit.jpeg',bbox_inches='tight', dpi=100)\n",
    "show('tracer27upfit.jpeg')\n",
    "\n",
    "# define 'new' optimized K and U\n",
    "K = popt[0] # dispersion coefficient\n",
    "U = popt[1] # averaged cross-secional average velocity throughout stream\n",
    "\n",
    "print('K optimized [ft^2/s] =', around(K/ft_m**2,decimals = 2))\n",
    "print('U optimized [ft/s] =', around(U/ft_m,decimals = 2))"
   ]
  },
  {
   "cell_type": "markdown",
   "metadata": {
    "collapsed": false
   },
   "source": [
    "### Compute Dispersion Coeff. from Predictor Equations\n",
    "Predictor equations are simple, practical formulas to determine a dispersion coefficients without performing tracer experiments; however, they can be inaccurate. Dozens of predictor equations have been published. Elder 1959 (Eq. 2), McQuivey & Keefer 1974 (Eq. 3), Iwasa & Aya 1991 (Eq. 4), and Koussis & Rodríguez-Mirasol 1998 (Eq. 5) will be used here. For other predictor equations or selecting a dispersion coefficient from previous studies, Rieckermann et al. 2005 and Wallis and Manson. 2004 are helpful resources referenced following the programs final outputs. <br/> <br/>\n",
    "$K_E = 5.93u_{star} h \\;\\;\\;\\;\\;\\;\\; (Eq. 2) $ <br/> <br/>\n",
    "$K_M = 0.058\\frac{V_x h}{S} \\;\\;\\;\\;\\;\\;\\; (Eq. 3) $ <br/> <br/>\n",
    "$K_I = 2\\frac{W}{h}^\\frac{3}{2}h u_{star} \\;\\;\\;\\;\\;\\;\\; (Eq. 5) $ <br/> <br/>\n",
    "$K_K = 0.6\\frac{W}{h}^2 h u_{star} \\;\\;\\;\\;\\;\\;\\; (Eq. 6) $ <br/> <br/>"
   ]
  },
  {
   "cell_type": "code",
   "execution_count": 0,
   "metadata": {
    "collapsed": false
   },
   "outputs": [
   ],
   "source": [
    "# compareing optimized K with prediction equation\n",
    "Pw = W + 2*h #wet perimetter (ft)\n",
    "Hr = A/Pw #hydraulic radius (ft)\n",
    "ustar = sqrt(9.81*Hr*S) #shear velocity (ft/s)\n",
    "\n",
    "# Elder (1959)\n",
    "KE = 5.93*ustar*h\n",
    "KE1 = KE/ft_m**2 #(ft^2/s)\n",
    "\n",
    "# Koussis & Rodríguez-Mirasol 1998\n",
    "KK = 0.6*(W/h)**2*h*ustar #(m^2/s)\n",
    "KK1 = KK/ft_m**2 #(ft^2/s)\n",
    "\n",
    "# Iwasa & Aya 1991\n",
    "KI = 2*(W/h)**(3/2)*h*ustar #(m^2/s)\n",
    "KI1 = KI/ft_m**2 #(ft^2/s)\n",
    "\n",
    "# McQuivey & Keefer 1974\n",
    "KM = 0.058*(U*h)/S  #(m^2/s)\n",
    "KM1 = KM/ft_m**2 #(ft^2/s)"
   ]
  },
  {
   "cell_type": "code",
   "execution_count": 0,
   "metadata": {
    "collapsed": false
   },
   "outputs": [
   ],
   "source": [
    "# Print information in a 'nice' table\n",
    "print('-- Stream Characteristics --|-- Customary Units --- | --- SI Units ---')\n",
    "print('study distance:                  ',around(xknown1, decimals = 3),'  ft          |   ',around(x, decimals = 3), 'm')\n",
    "print('avg. cross-sectional area:       ',around(A/ft_m**2, decimals = 3),'ft^2      |   ',around(A, decimals = 3), 'm^2')\n",
    "print('avg. width:                      ',around(W1, decimals = 3),'    ft          |   ',around(W, decimals = 3), 'm')\n",
    "print('avg. water height:               ',around(h/ft_m, decimals = 3),'ft          |   ',around(h, decimals = 3), 'm')\n",
    "print('avg. cross-sectional velocity:   ',around(U/ft_m, decimals =3),'ft/s        |   ',around(U, decimals = 3), 'm/s')\n",
    "print('flowrate:                        ',around(Qknown, decimals =3),'ft^3/s      |   ',around(Q, decimals = 3), 'm^3/s')\n",
    "print('avg. wet perimeter:              ',around(Pw/ft_m, decimals = 3),'ft          |   ',around(Pw, decimals = 3), 'm')\n",
    "print('avg. hydraulic radius:           ',around(Hr/ft_m,decimals = 3),'ft          |   ',around(Hr, decimals = 3), 'm')\n",
    "print('avg. shear velocity:             ',around(ustar/ft_m**2,decimals = 3),'ft^2/s      |   ',around(ustar, decimals = 3), 'm^2/s')\n",
    "print('')\n",
    "print('----- Dispersion Coeff. ----|')\n",
    "print('observed,            K:          ',around(K/ft_m**2, decimals = 3),'ft^2/s      |   ',around(K, decimals = 3),'m^2/s')\n",
    "print('predictor Elder,    KE:          ',around(KE1, decimals = 3),'ft^2/s      |   ',around(KE, decimals = 3),'m^2/s')\n",
    "print('predictor Koussis,  KK:          ',around(KK1, decimals = 3),'ft^2/s      |   ',around(KK, decimals = 3),'m^2/s')\n",
    "print('predictor Iwasa,    KI:          ',around(KI1, decimals = 3),'ft^2/s      |   ',around(KI, decimals = 3),'m^2/s')\n",
    "print('predictor McQuivey, KM:          ',around(KM1, decimals = 3),'ft^2/s      |   ',around(KM, decimals = 3),'m^2/s')"
   ]
  },
  {
   "cell_type": "markdown",
   "metadata": {
    "collapsed": false
   },
   "source": [
    "### References\n",
    "Elder, J.W. 1959. “The dispresion of marked fluid in turbulaent shear flow.” Journal of Fluid Mechanics 5, no. 4 (May):544-560 <br />\n",
    "Fischer, H. B. 1967. “The Mechanics of Dispersion in Natural Streams.” American Society of Civil Engineers, 25, No. 5, 62-68 <br />\n",
    "French, Richard. 1985. “Open-channel hydraulics” McGrawhill, New York. ISSN/ISBN: 0-07-022134-0, 978-0. <br \\>\n",
    "Iwasa, Y., & Shirou Aya, S. 1991. “Predicting longitudinal dispersion coefficeint in open-channel flows.” Proceedings of the International Symposium on Environmental Hydraulics 1, 505-510. <br />\n",
    "Koussis, A. D. and Jośe Rodríguez-Mirasol. 1998. “Hydraulic Estimation of Dispersion Coefficient for Streams.” Journal of Hydraulic Engineering 124, no. 3:317-320 <br />\n",
    "McQuivey, R. S. and Thomas N. Keefer. 1974. “Simple Method for Predicting Dispersion in Streams.” Journal of the Environmental Engineering Division 100, no. 4:997-1011. <br />\n",
    "Rutherford, J. C. 1994. “River Mixing.” John Wiley and Sons Ltd, Chichester, England\n"
   ]
  }
 ],
 "metadata": {
  "kernelspec": {
   "display_name": "Python 3 (Ubuntu Linux)",
   "language": "python",
   "name": "python3"
  },
  "language_info": {
   "codemirror_mode": {
    "name": "ipython",
    "version": 3
   },
   "file_extension": ".py",
   "mimetype": "text/x-python",
   "name": "python",
   "nbconvert_exporter": "python",
   "pygments_lexer": "ipython3",
   "version": "3.5.2"
  }
 },
 "nbformat": 4,
 "nbformat_minor": 0
}
