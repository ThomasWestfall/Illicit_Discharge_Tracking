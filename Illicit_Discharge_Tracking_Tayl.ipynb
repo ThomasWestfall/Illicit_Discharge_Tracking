{
 "cells": [
  {
   "cell_type": "markdown",
   "metadata": {
    "collapsed": false,
    "scrolled": true
   },
   "source": [
    "# Illicit Discharge Tracking - Instantaneous Point Source Analysis"
   ]
  },
  {
   "cell_type": "markdown",
   "metadata": {
    "collapsed": false,
    "scrolled": true
   },
   "source": [
    "This notebook provides a method to determine the location upstream where a possible illicit discharge occurred by only using downstream data. Conductivity data and flow information must be inputted. The program then calculates a dispersion coefficient with empirical equations or with predictor equations for streams where the dispersion coefficient has not yet been studied. The program produces a concentration curve from the observed conductivity data using a regression equation comparing concentrations of sodium chloride with electrical conductivity. The area under this observed concentration curve is multiplied by flowrate to estimate the mass of the substance. The observed concentration curve is then compared with a synthetic concentration curve computed by Taylor's Solution (Eq. 1) (Fischer, 1967; French, 1986, & Rutherford, 1994). <br/> <br/> $C(x,t)=\\frac{M}{A\\sqrt{4\\pi K_x t}}\\exp [\\frac{-(x-V_x t)^2}{(4K_x t)}] \\;\\;\\;\\;\\;\\;\\;\\;\\;\\;\\;\\;\\;\\;\\;\\;\\;\\;\\; (Eq. 1)$ <br/> <br/>  Several synthetic concentration curves are computed until the slope of the leading front is equal to the slope of the observed concentration curve. When the slopes are approximately equal, the synthetic concentration curve outputs an optimized distance, x, between the monitoring station and location upstream where the illicit source was discharged.<br />\n",
    "<br />\n",
    "This methodology works best when the user is investigating a uniform channel or stream. It has not yet been experimented with large streams or rivers; however, many studies have used Taylor's Solution and predictor equations to determine dispersion coefficients of rivers.\n",
    "<br />\n",
    "<br />"
   ]
  },
  {
   "cell_type": "markdown",
   "metadata": {
    "collapsed": false,
    "scrolled": true
   },
   "source": [
    "###### Populate Notebook with libraries"
   ]
  },
  {
   "cell_type": "code",
   "execution_count": 0,
   "metadata": {
    "collapsed": false,
    "scrolled": true
   },
   "outputs": [
   ],
   "source": [
    "%pylab inline\n",
    "%config InlineBackend.figure_format='retina' # hig-res plots for a Retina display\n",
    "from scipy.integrate import odeint\n",
    "from scipy.optimize import curve_fit\n",
    "import pandas as pd\n",
    "import statsmodels.formula.api as smf\n",
    "import numpy as np\n",
    "import os\n",
    "os.chdir('/home/user/Tracer Data') # import working directory for conductivity data"
   ]
  },
  {
   "cell_type": "markdown",
   "metadata": {
    "collapsed": false,
    "scrolled": true
   },
   "source": [
    "### Input Stream Characteristics"
   ]
  },
  {
   "cell_type": "code",
   "execution_count": 0,
   "metadata": {
    "collapsed": false,
    "scrolled": true
   },
   "outputs": [
   ],
   "source": [
    "A1 = 0.66     # ft^2/s         Average cross-sectional area\n",
    "Q1 = .23  # ft^3/s         Flow rate\n",
    "W1 = 4       # ft             Average width\n",
    "S = 0.015   # ft/ft or m/m   Slope\n",
    "#-------------------------------------------------------------------\n",
    "U1 = Q1/A1   # ft/s           Average cross-sectional velocity\n",
    "h1 = A1/W1   # ft             Average height of water\n",
    "\n",
    "# Convert from US units to SI\n",
    "ft_m = (30.48/100)\n",
    "U = U1*ft_m       # m/s\n",
    "A = A1*ft_m**2    # m^2\n",
    "Q = Q1*ft_m**3    # m^3/s\n",
    "h = h1*ft_m       # m\n",
    "W = W1*ft_m       # m"
   ]
  },
  {
   "cell_type": "markdown",
   "metadata": {
    "collapsed": false,
    "scrolled": true
   },
   "source": [
    "#### Determine dispersion coefficient from empirical equations\n",
    "Empirical equations are developed from flow data during tracer experiments. Equations 2 and 3 were developed for reach 1, a 300-ft uniform section of Webb Branch in Blacksburg, Virginia. If empirical equations are not present for the reach of interest, determine the dispersion coefficeint from predictor equations. <br/> <br/> $K = 6.0966*Q^{0.7414} \\;\\;\\;\\;\\;\\;\\; (Eq. 2) $ <br/> <br/> $ K = 7.5017*V_x^{0.9643} \\;\\;\\;\\;\\;\\;\\; (Eq. 3)$ <br/> <br/>\n",
    "where $V_x$ is in units of $ft/s$ and $K$ is in units of $ft^2/s$\n"
   ]
  },
  {
   "cell_type": "code",
   "execution_count": 0,
   "metadata": {
    "collapsed": false,
    "scrolled": true
   },
   "outputs": [
   ],
   "source": [
    "# Empirical equations derived from various flow conditions on Reach 1\n",
    "KQ1 = 6.0966*Q1**(0.7414)  # ft^2/s (for reach 1 near Edge apartments)\n",
    "KU1 = 7.5017*U1**(0.9643)  # ft^2/s (for reach 1 near Edge apartments)\n",
    "KQ = KQ1*ft_m**2           # m^2/s\n",
    "KU = KU1*ft_m**2           # m^2/s"
   ]
  },
  {
   "cell_type": "markdown",
   "metadata": {
    "collapsed": false,
    "scrolled": true
   },
   "source": [
    "#### Determine dispersion coefficient from predictor equations\n",
    "Predictor equations are simple, practical formulas to determine a dispersion coefficients without performing tracer experiments; however, they can be inaccurate. Dozens of predictor equations have been published, but for reach 1, \"Iwasa & Aya 1991\" (Eq. 4) and \"Koussis & Rodríguez-Mirasol 1998\" (Eq. 5) performed the best when comapred with the observed dispersion coefficient. For other predictor equations or selecting a dispersion coefficient from previous studies, \"Rieckermann et al. 2005\" and \"Wallis and Manson. 2014\" are helpful resources referenced following the program's final outputs. <br/> <br/>\n",
    "$K_I = 2*\\frac{W}{h}^\\frac{3}{2}*h*u_{star} \\;\\;\\;\\;\\;\\;\\; (Eq. 4) $ <br/> <br/>\n",
    "$K_K = 0.6*\\frac{W}{h}^2*h*u_{star} \\;\\;\\;\\;\\;\\;\\; (Eq. 5) $\n"
   ]
  },
  {
   "cell_type": "code",
   "execution_count": 0,
   "metadata": {
    "collapsed": false,
    "scrolled": true
   },
   "outputs": [
   ],
   "source": [
    "# Simple calculations to determine characteristics of stream during illicit event\n",
    "Pw = W + 2*h            # m   wet perimeter\n",
    "Hr = A/Pw               # m   hydraulic radius\n",
    "ustar = sqrt(9.81*Hr*S) # m^2/s shear velocity\n",
    "\n",
    "# Koussis & Rodríguez-Mirasol 1998\n",
    "KK = 0.6*(W/h)**2*h*ustar   # m^2/s\n",
    "KK1 = KK/ft_m**2             # ft^2/s\n",
    "\n",
    "# Iwasa & Aya 1991\n",
    "KI = 2*(W/h)**(3/2)*h*ustar # m^2/s\n",
    "KI1 = KI/ft_m**2             # ft^2/s\n",
    "\n",
    "# Average Dispersion Coefficient: (nothing in the literature recommends this)\n",
    "Kavg = (KU + KQ + KK + KI)/4 # m^2/s"
   ]
  },
  {
   "cell_type": "markdown",
   "metadata": {
    "collapsed": false,
    "scrolled": true
   },
   "source": [
    "#### Print summary of variables"
   ]
  },
  {
   "cell_type": "code",
   "execution_count": 0,
   "metadata": {
    "collapsed": false,
    "scrolled": true
   },
   "outputs": [
   ],
   "source": [
    "# Print information in a 'nice' table\n",
    "print('-- Stream Characteristics --|-- Customary Units --- | --- SI Units ---')\n",
    "print('avg. cross-sectional area:       ',around(A1, decimals = 3),'  ft^2     |   ',around(A, decimals = 3), 'm^2')\n",
    "print('avg. width:                      ',around(W1, decimals = 3),'    ft          |   ',around(W, decimals = 3), 'm')\n",
    "print('avg. water height:               ',around(h1, decimals = 3),'ft          |   ',around(h, decimals = 3), 'm')\n",
    "print('avg. cross-sectional velocity:   ',around(U1, decimals =3),'  ft/s      |   ',around(U, decimals = 3), 'm/s')\n",
    "print('flowrate:                        ',around(Q1, decimals =3),'  ft^3/s     |   ',around(Q, decimals = 3), 'm^3/s')\n",
    "print('avg. wet perimeter:              ',around(Pw/ft_m, decimals = 3),'ft           |   ',around(Pw, decimals = 3), 'm')\n",
    "print('avg. hydraulic radius:           ',around(Hr/ft_m,decimals = 3),'ft          |   ',around(Hr, decimals = 3), 'm')\n",
    "print('avg. shear velocity:             ',around(ustar/ft_m**2,decimals = 3),'ft^2/s       |   ',around(ustar, decimals = 3), 'm^2/s')\n",
    "print('')\n",
    "print('----- Dispersion Coeff. ----|')\n",
    "print('predictor Koussis,  KK:          ',around(KK1, decimals = 3),'ft^2/s     |   ',around(KK, decimals = 3),'m^2/s')\n",
    "print('predictor Iwasa,    KI:          ',around(KI1, decimals = 3),'ft^2/s     |   ',around(KI, decimals = 3),'m^2/s')\n",
    "print('------------------------------------------------------------------------')"
   ]
  },
  {
   "cell_type": "raw",
   "metadata": {
    "collapsed": false,
    "scrolled": true
   },
   "source": [
    "#### Select Dispersion Coefficient to use:\n",
    "\n",
    "If determining a dispersion coefficient using various methods, select a single coefficient to be used in the remaining program."
   ]
  },
  {
   "cell_type": "code",
   "execution_count": 0,
   "metadata": {
    "collapsed": false,
    "scrolled": true
   },
   "outputs": [
   ],
   "source": [
    "K = KK # KQ, KU, KK, or KI"
   ]
  },
  {
   "cell_type": "markdown",
   "metadata": {
    "collapsed": false,
    "scrolled": true
   },
   "source": [
    "### Input conductivity data"
   ]
  },
  {
   "cell_type": "code",
   "execution_count": 0,
   "metadata": {
    "collapsed": false,
    "scrolled": true
   },
   "outputs": [
   ],
   "source": [
    "# What/where is the data file?\n",
    "datafile = 'lewas_illicit_12_03_M.csv'\n",
    "data = pd.read_csv(datafile)\n",
    "\n",
    "# This assumes data file contains arrays 't_sec' and 'cond_microS_cm'\n",
    "# (ie. column headings)\n",
    "t=array(data.t_sec)+1 # 1 second is added to the data to avoid issues with t=0\n",
    "EC=array(data.cond_microS_cm) # Specific Conductivity data in microS/cm\n",
    "EC_base = EC[2]   # baseline conductivity of stream before event (microS/cm)\n",
    "\n",
    "# seconds between the conductivity measurements \n",
    "# (assuming measurements are every 1 to 60 seconds)\n",
    "sampint = t[2]-t[1]\n",
    "\n",
    "data.head() # preview of the first 5 rows of data loaded"
   ]
  },
  {
   "cell_type": "markdown",
   "metadata": {
    "collapsed": false,
    "scrolled": true
   },
   "source": [
    "### Create an observed concentration curve\n",
    "Before the distance upstream is approximated, an observed concentration profile is computed using the conductivity data. How do you find a concentration of a substance if the substance is not known? A variety of inorganic compounds can increase the conductance of the stream including, but not limited to, sodium chloride, potassium chloride, ammonia chloride, potassium nitrate, lithium chloride, potassium sulfate, or ammonia sulfate. The plot below shows the conductance of these compounds as their mass increases. Sodium chloride represents an approximate mean of these relationships. 35% error bounds about the sodium chloride values include almost the entire range of the other compounds. Therefore, a power function fitted to the sodium chloride values is used to compute the observed concentration profile (Eq. 6). <br/> <br/> $ C =0.000013*EC^{1.161074} \\;\\;\\;\\;\\;\\;\\; (Eq. 6) $ <br/> <br/>\n",
    "where $EC$ is in units of $microS/cm$ and $C$ is mass percent <br/><br/>\n",
    "\n",
    "Assuming the density of water is 1.00 g/ml, mass percent can be converted to mg/L providing an observed concentration curve in mg/L. <br /><br />\n",
    "\n",
    "This regression equation could be replaced with other equations comparing conductance to concentrations of other inorganic compounds."
   ]
  },
  {
   "cell_type": "code",
   "execution_count": 0,
   "metadata": {
    "collapsed": false,
    "scrolled": true
   },
   "outputs": [
   ],
   "source": [
    "# Conductivity concentration\n",
    "\n",
    "#percolate arrays\n",
    "C_rel = zeros(len(EC))     # (% conc.) of entire curve + baseflow values\n",
    "C_hump = zeros(len(C_rel)) # (% conc.) of just curve or \"hump\"\n",
    "C_obs = zeros(len(C_hump)) # (mg/L) of curve \"hump\" using CCC of NaCl\n",
    "C_area = zeros(len(C_obs)) # (mg/L-s) area under of curve \"hump\" using Midpoint approx\n",
    "\n",
    "# relative concentration curve @ 20 degrees C\n",
    "for i in range (0,len(EC)):\n",
    "    C_rel[i] = 0.000013*EC[i]**1.161074 # conductivity to mass percent of NaCl\n",
    "    C_rel[i] = C_rel[i]*10000 # mass percent to mg/L [1% = 1g NaCl/100mL = (.01g/ml)(1000mL/1L)(1000mg/g) = 10,000mg/L]\n",
    "    \n",
    "# background relative concentration based on conductivity at baseflow\n",
    "C_base = C_rel[1]\n",
    "\n",
    "# subtract baseflow's relative concentration from relative conc. increase\n",
    "for i in range (0,len(C_rel)):\n",
    "    C_obs[i] = C_rel[i]-C_base\n",
    "    if C_obs[i] < 0:\n",
    "        C_obs[i] = 0\n",
    "        \n",
    "# estimate mass of substance by calculating area under observed conc. curve using midpoint\n",
    "for i in range (1, len(C_obs)):\n",
    "    C_area[i] = ((C_obs[i]+C_obs[i-1])/2)\n",
    "\n",
    "MFR = sum(C_area)*sampint # (mg/L-s) Mass Flow Rate\n",
    "M = MFR*Q # (grams) equivalent mass of NaCl\n",
    "\n",
    "print('Mass Flow Rate (mg/L-s):', MFR)\n",
    "print('Approximate equivalent mass of NaCl (g): ', M)"
   ]
  },
  {
   "cell_type": "markdown",
   "metadata": {
    "collapsed": false,
    "scrolled": true
   },
   "source": [
    "### Calculate leading front slope of observed data\n",
    "\n",
    "#### Determine characteristics of observed concentration curve"
   ]
  },
  {
   "cell_type": "code",
   "execution_count": 0,
   "metadata": {
    "collapsed": false,
    "scrolled": true
   },
   "outputs": [
   ],
   "source": [
    "Cmax = amax(C_obs) # maximum concentration observed\n",
    "Chalf = 0.5*Cmax\n",
    "\n",
    "# calculate times and delta times\n",
    "tstart = t[nonzero(C_obs > 0.01*Cmax)[0][0]] # time location of the initial front\n",
    "tpeak = t[argmax(C_obs)] # time of the peak\n",
    "\n",
    "print('Maximum concentration observed (mg/L):' , around(Cmax, decimals=3))\n",
    "print('Half concentration observed (mg/L):' , around(Chalf, decimals=3))\n",
    "print('Time of initial front (sec):' , around(tstart, decimals=3))\n",
    "print('Time of Max concentration (sec):' , around(tpeak, decimals=3))"
   ]
  },
  {
   "cell_type": "markdown",
   "metadata": {
    "collapsed": false,
    "scrolled": true
   },
   "source": [
    "#### Plot the observed data and slope\n",
    "A linear regression line is computed using the observed data points on the leading front. Only data points between the lower and upper bounds, one-half the maximum concentration, $\\frac{1}{2}C_{max}$ and the maximum concentration, $C_{max}$, are used to compute the regression line. The 'slope' of this linear regression line is recorded to be used later."
   ]
  },
  {
   "cell_type": "code",
   "execution_count": 0,
   "metadata": {
    "collapsed": false,
    "scrolled": true
   },
   "outputs": [
   ],
   "source": [
    "# set bounds on the leading front where where the slope will be calculated\n",
    "ClowerD = 0.5\n",
    "CupperD = 0.999\n",
    "\n",
    "# calculate the slope of the leading front using data points near bounds\n",
    "indx1 = nonzero(C_obs > ClowerD*Cmax)[0][0]\n",
    "indx2 = nonzero(C_obs > CupperD*Cmax)[0][0]\n",
    "t1 = t[indx1]\n",
    "t2 = t[indx2]\n",
    "dCdtmeas1 = (C_obs[indx2]-C_obs[indx1])/(t2-t1)\n",
    "\n",
    "# select observed data between selected bounds\n",
    "poop = np.where(np.logical_and(t>=t1, t<=t2))\n",
    "Lt = t[poop]\n",
    "LC = C_obs[poop]\n",
    "\n",
    "# create separate dataframe for obs. data between bounds\n",
    "datat=pd.DataFrame(Lt, columns=['t_sec'])\n",
    "dataC=pd.DataFrame(LC, columns=['C_obs'])\n",
    "result = pd.concat([datat, dataC], axis=1)\n",
    "\n",
    "# calculate the slope of the leading front using linear regression between bounds\n",
    "lm = smf.ols(formula='C_obs ~ t_sec', data=result).fit()\n",
    "\n",
    "# slope of the leading front using linear regression between bounds\n",
    "dCdtreg1 = lm.params.t_sec\n",
    "\n",
    "# compute new conc valus with linear regression eqn.\n",
    "C_hat = lm.predict(datat)\n",
    "\n",
    "# plot linear regression line with observed data\n",
    "fig, ax = plt.subplots()\n",
    "ax.plot(data.t_sec/60,C_obs,'o', alpha = 0.5, label='Data')\n",
    "ax.plot(datat/60, C_hat,'r', color='k', linestyle = '-', label = 'Linear Regression')\n",
    "\n",
    "ax.axvline(x=t1/60,color='C1', linestyle='--', alpha=0.5, label='slope range')\n",
    "ax.axvline(x=t2/60,color='C1', linestyle='--', alpha=0.5)\n",
    "ax.set_xlabel('Time [min]', fontsize=18)\n",
    "ax.set_ylabel('Concentration, $C$  [mg/L]', fontsize=18)\n",
    "ax.tick_params(axis='x', labelsize=16)\n",
    "ax.tick_params(axis='y', labelsize=16)\n",
    "legend(loc=1, prop={'size': 18})\n",
    "ax.set_xlim(tstart/60+20,tpeak/60+40)\n",
    "\n",
    "# save plot\n",
    "fig.set_size_inches(10, 8, forward = True)\n",
    "fig.savefig('illicit_lewas_12_03.jpeg',bbox_inches='tight', dpi=100)\n",
    "\n",
    "sloperange1= str(ClowerD) + 'Cmax and ' +str(CupperD) + 'Cmax'\n",
    "print('-----------------------------------------------------')\n",
    "print('Front slope between', sloperange1)\n",
    "print('C=C(t) slope from data points =',around(dCdtmeas1,decimals=4))\n",
    "print('C=C(t) slope from regression line =',around(dCdtreg1,decimals=4))"
   ]
  },
  {
   "cell_type": "markdown",
   "metadata": {
    "collapsed": false,
    "scrolled": true
   },
   "source": [
    "### Calculate distance upstream\n",
    "\n",
    "#### Define Taylor solution"
   ]
  },
  {
   "cell_type": "code",
   "execution_count": 0,
   "metadata": {
    "collapsed": false,
    "scrolled": true
   },
   "outputs": [
   ],
   "source": [
    "def taylorU(t,M,U,K,x):\n",
    "    Cp = (M/(A*sqrt(4*pi*K*t)))*exp(-(x-U*t)**2/(4*K*t))\n",
    "    return Cp # returns C in mg/L"
   ]
  },
  {
   "cell_type": "markdown",
   "metadata": {
    "collapsed": false,
    "scrolled": true
   },
   "source": [
    "#### Prepare variables for input into Taylor solution"
   ]
  },
  {
   "cell_type": "code",
   "execution_count": 0,
   "metadata": {
    "collapsed": false,
    "scrolled": true
   },
   "outputs": [
   ],
   "source": [
    "# prepare/percolate values for the 'for' loop\n",
    "N = 1000\n",
    "xrange = linspace(1,1000,N) # synthetic distance 1 --> 1000 meters\n",
    "\n",
    "dCdt = zeros(N) #synthetic slope using data point limits (Clower, Cupper)\n",
    "dCdtregsyn = zeros(N) #synthetic regression line slope\n",
    "\n",
    "# give variance (breathing room) to approximated mass\n",
    "MMM = 50\n",
    "Msyn = linspace(M-M*.30,M+M*.30,MMM) # +/- 35% of approximated mass\n",
    "M_int = zeros(MMM)\n",
    "\n",
    "# initial value of difference between syn. and obs. slopes, will be minimized\n",
    "diffi = 10"
   ]
  },
  {
   "cell_type": "markdown",
   "metadata": {
    "collapsed": false,
    "scrolled": true
   },
   "source": [
    "#### Estimate $X_{start}$ using Taylor Solution\n",
    "A synthetic concentration profile and a linear regression line (between the same bounds) is computed using the Taylor solution. A 'for' loop iterates a range of distances, $x$, and a selection of masses, $M$, into the Taylor solution. (The mass selection is +/- 35% the estimated mass from the area under the obs. conc. profile). The loop outputs an approximate distance to the source when the difference between the linear regression slopes of the obs. conc. and syn. conc. profiles is minimized. Program takes 10 minutes"
   ]
  },
  {
   "cell_type": "code",
   "execution_count": 0,
   "metadata": {
    "collapsed": false,
    "scrolled": true
   },
   "outputs": [
   ],
   "source": [
    "## SLOPE D -------------(takes 7 minutes to run)----------------------------------------------\n",
    "for i in range(1,N):\n",
    "    for j in range(1,MMM):\n",
    "        tend = 10*(xrange[i]/U)\n",
    "        tsyn = linspace(1,tend, N)\n",
    "        Csyn = taylorU(tsyn,Msyn[j],U,K,xrange[i])\n",
    "        Cmax = amax(Csyn)\n",
    "        #determine synthetic slope between selected limits\n",
    "        indx1 = nonzero(Csyn > ClowerD*Cmax)[0][0]\n",
    "        indx2 = nonzero(Csyn > CupperD*Cmax)[0][0]\n",
    "        t1 = tsyn[indx1]\n",
    "        t2 = tsyn[indx2]\n",
    "        #determine synthetic slope of regression line between selected limits\n",
    "        Srange = np.where(np.logical_and(tsyn>=t1, tsyn<=t2))\n",
    "        #select synthetic data between selected lower and upper limits\n",
    "        Ltsyn = tsyn[Srange]\n",
    "        LCsyn = Csyn[Srange]\n",
    "        #create separate synthetic dataframe for leading slope\n",
    "        datatsyn=pd.DataFrame(Ltsyn, columns=['t_sec_syn'])\n",
    "        dataCsyn=pd.DataFrame(LCsyn, columns=['C_mgL_syn'])\n",
    "        resultsyn = pd.concat([datatsyn, dataCsyn], axis=1)\n",
    "        #perform linear regression on synthetic data\n",
    "        lmsyn = smf.ols(formula='C_mgL_syn ~ t_sec_syn', data=resultsyn).fit()\n",
    "        #synthetic slope of synthetic regression line\n",
    "        dCdtregsyn = lmsyn.params.t_sec_syn\n",
    "        #run 'if' statement until diffi is minimized\n",
    "        diff = (np.abs(dCdtregsyn-dCdtreg1))\n",
    "        if diff < diffi:\n",
    "            diffi = diff\n",
    "            XYZ = xrange[i]\n",
    "            MYZ = Msyn[j]\n",
    "        \n",
    "print('Approximate distance to upstream source (ft):', around(XYZ/ft_m, decimals = 0))\n",
    "print('Approximate mass equivalent of NaCl (g):', around(MYZ, decimals = 0))"
   ]
  },
  {
   "cell_type": "markdown",
   "metadata": {
    "collapsed": false,
    "scrolled": true
   },
   "source": [
    "#### Plot the Synthetic and Observed curves"
   ]
  },
  {
   "cell_type": "code",
   "execution_count": 0,
   "metadata": {
    "collapsed": false,
    "scrolled": true
   },
   "outputs": [
   ],
   "source": [
    "#---- Run Taylor Solution again with known MYZ and XYZ to get Csyn ----\n",
    "tend = 10*(XYZ/U)\n",
    "tsyn = linspace(1,tend, N)\n",
    "Csyn = taylorU(tsyn,MYZ,U,K,XYZ) #synthetic concentration curve\n",
    "Cmax = amax(Csyn)\n",
    "#determine synthetic slope between selected limits\n",
    "indx1 = nonzero(Csyn > ClowerD*Cmax)[0][0]\n",
    "indx2 = nonzero(Csyn > CupperD*Cmax)[0][0]\n",
    "t1 = tsyn[indx1]\n",
    "t2 = tsyn[indx2]\n",
    "#determine synthetic slope of regression line between selected limits\n",
    "Srange = np.where(np.logical_and(tsyn>=t1, tsyn<=t2))\n",
    "#select synthetic data between selected lower and upper limits\n",
    "Ltsyn = tsyn[Srange]\n",
    "LCsyn = Csyn[Srange]\n",
    "#create separate synthetic dataframe for leading slope\n",
    "datatsyn=pd.DataFrame(Ltsyn, columns=['t_sec_syn'])\n",
    "dataCsyn=pd.DataFrame(LCsyn, columns=['C_mgL_syn'])\n",
    "resultsyn = pd.concat([datatsyn, dataCsyn], axis=1)\n",
    "#perform linear regression on synthetic data\n",
    "lmsyn = smf.ols(formula='C_mgL_syn ~ t_sec_syn', data=resultsyn).fit()\n",
    "\n",
    "# --------Match peaks of obs and syn to fit on same plot------------------------------------------------------\n",
    "# match synthetic peak to observed peak\n",
    "tstartsyn = tsyn[nonzero(Csyn > 0.01*Cmax)[0][0]] # time of start\n",
    "tpeaksyn = tsyn[argmax(Csyn)] # time of the peak\n",
    "\n",
    "# create separate time array for synthetic peak\n",
    "tplot = zeros(len(tsyn))\n",
    "for i in range(0,len(tsyn)):\n",
    "    tplot[i] = tsyn[i]+abs(tpeak-tpeaksyn)\n",
    "\n",
    "datatsynplot = zeros(len(Ltsyn))\n",
    "for i in range(0, len(Ltsyn)):\n",
    "    datatsynplot[i] = Ltsyn[i]+abs(tpeak-tpeaksyn)\n",
    "\n",
    "# create regression lines from obs and syn\n",
    "C_hat_syn = lmsyn.predict(datatsyn) # syn regression\n",
    "C_hat = lm.predict(datat) # obs regression\n",
    "\n",
    "#plot linear regression line with observed data\n",
    "fig, ax = plt.subplots()\n",
    "ax.plot(tsyn/60, Csyn, '--', color ='k', alpha = 0.5, label = 'Syn. Fit')\n",
    "ax.plot(datatsyn/60, C_hat_syn,'r', color='tab:gray', linestyle = '-', label = 'Syn. Linear Regression')\n",
    "ax.set_xlabel('Time [min]', fontsize=18)\n",
    "ax.set_ylabel('Concentration, $C$  [mg/L]', fontsize=18)\n",
    "ax.tick_params(axis='x', labelsize=16)\n",
    "ax.tick_params(axis='y', labelsize=16)\n",
    "legend(loc=1, prop={'size': 18})\n",
    "ax.set_xlim(0,tpeaksyn/60+25)\n",
    "fig.set_size_inches(10, 8, forward = True)\n",
    "fig.savefig('illicit_lewas_12_03.jpeg',bbox_inches='tight', dpi=100)\n",
    "\n",
    "fig, ax = plt.subplots()\n",
    "ax.plot(tplot/60, Csyn, '--', color ='k', alpha = 0.5, label = 'Syn. Fit')\n",
    "ax.plot(datatsynplot/60, C_hat_syn,'r', color='tab:gray', linestyle = '-', label = 'Syn. Linear Regression')\n",
    "ax.plot(data.t_sec/60,C_obs,'o', alpha = 0.5, label='Obs. Data')\n",
    "ax.plot(datat/60, C_hat,'r', color='k', linestyle = '-', label = 'Obs. Linear Regression')\n",
    "ax.set_xlabel('Time [min]', fontsize=18)\n",
    "ax.set_ylabel('Concentration, $C$  [mg/L]', fontsize=18)\n",
    "ax.tick_params(axis='x', labelsize=16)\n",
    "ax.tick_params(axis='y', labelsize=16)\n",
    "legend(loc=1, prop={'size': 18})\n",
    "ax.set_xlim(tstart/60+25,tpeak/60+35)\n",
    "\n",
    "fig.set_size_inches(10, 8, forward = True)\n",
    "fig.savefig('illicit_lewas_12_03.jpeg',bbox_inches='tight', dpi=100)"
   ]
  },
  {
   "cell_type": "markdown",
   "metadata": {
    "collapsed": false,
    "scrolled": true
   },
   "source": [
    "#### Outputs"
   ]
  },
  {
   "cell_type": "code",
   "execution_count": 0,
   "metadata": {
    "collapsed": false,
    "scrolled": true
   },
   "outputs": [
   ],
   "source": [
    "print('Approximate mass equivalent of NaCl (g):', around(MYZ, decimals = 0))\n",
    "print('Time of peak (s):', around(tpeaksyn, decimals = 2))\n",
    "print('Approximate distance to upstream source multiplying time of peak and velocity (ft):', around(U*tpeaksyn/ft_m))\n",
    "print('Approximate distance to upstream source from Taylor solution (ft):', around(XYZ/ft_m, decimals = 0))"
   ]
  },
  {
   "cell_type": "markdown",
   "metadata": {
    "collapsed": false,
    "scrolled": true
   },
   "source": [
    "### References\n",
    "\n",
    "CRC Handbook of Chemistry, and Physics, Edited by William M. Haynes. Boca Raton, Florida: CRC Press, 2014. pg. 5-73 <br /><br />\n",
    "Fischer, H. B. 1967. “The Mechanics of Dispersion in Natural Streams.” American Society of Civil Engineers, 25, No. 5, 62-68 <br /> <br />\n",
    "French, Richard. 1985. “Open-channel hydraulics” McGrawhill, New York. ISSN/ISBN: 0-07-022134-0, 978-0. <br /> <br />\n",
    "Iwasa, Y., & Shirou Aya, S. 1991. “Predicting longitudinal dispersion coefficeint in open-channel flows.” Proceedings of the International Symposium on Environmental Hydraulics 1, 505-510. <br /> <br />\n",
    "Koussis, A. D. and Jośe Rodríguez-Mirasol. 1998. “Hydraulic Estimation of Dispersion Coefficient for Streams.” Journal of Hydraulic Engineering 124, no. 3:317-320 <br /><br />\n",
    "Rieckermann J., M. Neumann, C. Ort, J. L. Huisman, and W. Gujer. 2005. “Dispersion coefficients of sewers from tracer experiments.” Water Science & Technology 52, no. 5:123-134 + appendix.<br /><br />\n",
    "Rutherford, J. C. 1994. “River Mixing.” John Wiley and Sons Ltd, Chichester, England <br /><br />\n",
    "Wallis, S. G., and J. R. Manson. 2004. “Methods for Predicting Dispersion Coefficients in Rivers.” Proceedings of the ICE - Water Management 157 (3): 131–41. doi:10.1680/wama.2004.157.3.131.\n"
   ]
  }
 ],
 "metadata": {
  "kernelspec": {
   "display_name": "Python 3 (Ubuntu Linux)",
   "language": "python",
   "name": "python3"
  },
  "language_info": {
   "codemirror_mode": {
    "name": "ipython",
    "version": 3
   },
   "file_extension": ".py",
   "mimetype": "text/x-python",
   "name": "python",
   "nbconvert_exporter": "python",
   "pygments_lexer": "ipython3",
   "version": "3.5.2"
  }
 },
 "nbformat": 4,
 "nbformat_minor": 0
}
